{
 "cells": [
  {
   "cell_type": "markdown",
   "metadata": {},
   "source": [
    "# Predict Survival based on Features"
   ]
  },
  {
   "cell_type": "code",
   "execution_count": 1,
   "metadata": {
    "collapsed": true
   },
   "outputs": [],
   "source": [
    "import os\n",
    "import time\n",
    "import openpyxl as px\n",
    "import numpy as np\n",
    "import matplotlib.pyplot as plt\n",
    "\n",
    "## Linear SVM\n",
    "from sklearn.svm import SVC\n",
    "from sklearn.metrics import confusion_matrix \n",
    "\n",
    "from sklearn.metrics import roc_curve, auc\n",
    "\n",
    "import tensorflow as tf\n",
    "\n",
    "% matplotlib inline\n",
    "\n",
    "# Notebook will automatically reload external python modules;\n",
    "# See http://stackoverflow.com/questions/1907993/autoreload-of-modules-in-ipython\n",
    "%load_ext autoreload\n",
    "%autoreload 2"
   ]
  },
  {
   "cell_type": "markdown",
   "metadata": {},
   "source": [
    "## Load data\n",
    "\n",
    "1. Ignore the imagine part of features value\n",
    "2. Ignore features with NaN or blank\n",
    "3. Normalize each feature into $\\mathcal{N}(0,1).$\n",
    "\n",
    "Features INFO:\n",
    "* 1-1200: Anatomical MRI\n",
    "* 1200-3800: Dynamic MRI\n",
    "* \\>4000: DWI MRI"
   ]
  },
  {
   "cell_type": "code",
   "execution_count": 2,
   "metadata": {
    "collapsed": true
   },
   "outputs": [],
   "source": [
    "## Load data\n",
    "xlsx_file = px.load_workbook('./data/FullList_ForAnalysis_11012017.xlsx')\n",
    "sheet1 = xlsx_file.get_sheet_by_name(name='Radiomics')\n",
    "sheet2 = xlsx_file.get_sheet_by_name(name='All')\n",
    "sheet3 = xlsx_file.get_sheet_by_name(name='Clinical')"
   ]
  },
  {
   "cell_type": "code",
   "execution_count": 3,
   "metadata": {
    "collapsed": true
   },
   "outputs": [],
   "source": [
    "from src.utils import *"
   ]
  },
  {
   "cell_type": "markdown",
   "metadata": {},
   "source": [
    "#### radiomics"
   ]
  },
  {
   "cell_type": "code",
   "execution_count": null,
   "metadata": {
    "collapsed": true
   },
   "outputs": [],
   "source": [
    "radiomics_real_np, radiomics_feature_ids = load_radiomics(sheet1)"
   ]
  },
  {
   "cell_type": "markdown",
   "metadata": {},
   "source": [
    "#### clinical"
   ]
  },
  {
   "cell_type": "code",
   "execution_count": 5,
   "metadata": {},
   "outputs": [
    {
     "name": "stdout",
     "output_type": "stream",
     "text": [
      "data shape: (165, 19)\n",
      "['Sex', 'N分期标准-R', '肛距-R2', 'Tstage-R2', 'Nstage-R2', 'N分期标准-R2', 'MR分段-R2', 'CJ分段-R2', 'xingbie', 'Age', '放疗剂量', '化疗药物', '手术方式', '病理T分期', '淋巴结送检', '淋巴结转移', '病理N分期', '病理M分期', '病理类型']\n"
     ]
    }
   ],
   "source": [
    "clinical_real_np, select_clinical_features = load_clinical(sheet3)"
   ]
  },
  {
   "cell_type": "markdown",
   "metadata": {},
   "source": [
    "#### all = radiomics + clinical"
   ]
  },
  {
   "cell_type": "code",
   "execution_count": null,
   "metadata": {},
   "outputs": [],
   "source": [
    "all_real_np, select_all_features = load_all(sheet2)"
   ]
  },
  {
   "cell_type": "markdown",
   "metadata": {},
   "source": [
    "### Labels"
   ]
  },
  {
   "cell_type": "code",
   "execution_count": 7,
   "metadata": {
    "collapsed": true
   },
   "outputs": [],
   "source": [
    "# load labels\n",
    "# ForAnalysis.xlsx 30\n",
    "# RectalSurvivalData.xlsx 89\n",
    "# FullList_ForAnalysis.xlsx 1-25, 26-108, 109-165\n",
    "labels = np.zeros((165,))\n",
    "labels[108:] = 1"
   ]
  },
  {
   "cell_type": "code",
   "execution_count": 15,
   "metadata": {
    "collapsed": true
   },
   "outputs": [],
   "source": [
    "num_data = 165\n",
    "num_train = 125\n",
    "num_val = 40\n",
    "\n",
    "num_class1 = 108\n",
    "num_class2 = num_data - 108\n",
    "\n",
    "vmask1 = np.random.choice(num_class1, size=num_val//2, replace=False).tolist()\n",
    "vmask2 = np.random.choice(num_class2, size=num_val//2, replace=False).tolist()\n",
    "vmask2 = [x + 108 for x in vmask2]\n",
    "vmask = vmask1 + vmask2\n",
    "\n",
    "tmask = [ i for i in range(num_data) if i not in vmask]"
   ]
  },
  {
   "cell_type": "markdown",
   "metadata": {},
   "source": [
    "## Radiomics + Linear SVM\n",
    "\n",
    "For two class classification case:\n",
    "\n",
    "$$w = argmin_{w} \\sum_{i\\in Class1} ||w*x_i - 1||^2 + \\sum_{j\\in Class2} ||w*x_j + 1||^2$$"
   ]
  },
  {
   "cell_type": "code",
   "execution_count": 16,
   "metadata": {
    "collapsed": true
   },
   "outputs": [],
   "source": [
    "from src.linearsvm import linearsvm"
   ]
  },
  {
   "cell_type": "code",
   "execution_count": null,
   "metadata": {
    "collapsed": true
   },
   "outputs": [],
   "source": [
    "linearsvm(radiomics_real_np, radiomics_feature_ids, labels, tmask, vmask, num_train=120, num_data=165)"
   ]
  },
  {
   "cell_type": "markdown",
   "metadata": {},
   "source": [
    "## Clinical + Linear SVM"
   ]
  },
  {
   "cell_type": "code",
   "execution_count": null,
   "metadata": {
    "collapsed": true
   },
   "outputs": [],
   "source": [
    "linearsvm(clinical_real_np, select_clinical_features, labels, tmask, vmask, num_train=120, num_data=165)"
   ]
  },
  {
   "cell_type": "markdown",
   "metadata": {},
   "source": [
    "### ALL + Linear SVM"
   ]
  },
  {
   "cell_type": "code",
   "execution_count": null,
   "metadata": {
    "collapsed": true
   },
   "outputs": [],
   "source": [
    "linearsvm(all_real_np, select_all_features, labels, tmask, vmask, num_train=120, num_data=165)"
   ]
  },
  {
   "cell_type": "markdown",
   "metadata": {},
   "source": [
    "## cross validation: Repeated random sub-sampling validation\n"
   ]
  },
  {
   "cell_type": "code",
   "execution_count": 28,
   "metadata": {
    "collapsed": true
   },
   "outputs": [],
   "source": [
    "from src.linearsvm import k_fold_linearsvm"
   ]
  },
  {
   "cell_type": "markdown",
   "metadata": {
    "collapsed": true
   },
   "source": [
    "#### radiomics"
   ]
  },
  {
   "cell_type": "code",
   "execution_count": 77,
   "metadata": {},
   "outputs": [
    {
     "name": "stdout",
     "output_type": "stream",
     "text": [
      "feature's shape: (165, 5147)\n",
      "num_training: 120\n",
      "num_validation: 45\n",
      "selected features: \n",
      "[3231, 3230, 2964, 2516, 677, 5134, 5133, 1847, 3224, 3763, 3306, 4926]\n",
      "[[60 30]\n",
      " [ 9 38]]\n",
      "train score:  0.715328467153\n",
      "[[16  2]\n",
      " [ 2  8]]\n",
      "valid score:  0.857142857143\n",
      "****************************************\n",
      "average train score:  0.843138686131\n",
      "average valid score:  0.78\n"
     ]
    },
    {
     "data": {
      "image/png": "[encoded data removed]",
      "text/plain": [
       "<matplotlib.figure.Figure at 0x1293e2fd0>"
      ]
     },
     "metadata": {},
     "output_type": "display_data"
    }
   ],
   "source": [
    "radio_feats = k_fold_linearsvm(100, radiomics_real_np, radiomics_feature_ids, labels, num_train=120, num_data=165)"
   ]
  },
  {
   "cell_type": "markdown",
   "metadata": {},
   "source": [
    "#### clinical"
   ]
  },
  {
   "cell_type": "code",
   "execution_count": 76,
   "metadata": {},
   "outputs": [
    {
     "name": "stdout",
     "output_type": "stream",
     "text": [
      "feature's shape: (165, 19)\n",
      "num_training: 120\n",
      "num_validation: 45\n",
      "selected features: \n",
      "['xingbie', '淋巴结送检', 'Nstage-R2', 'N分期标准-R2', '病理类型', '肛距-R2', 'MR分段-R2', '手术方式', '病理N分期', 'CJ分段-R2', '病理T分期', 'Age']\n",
      "[[59 31]\n",
      " [ 5 42]]\n",
      "train score:  0.737226277372\n",
      "[[13  5]\n",
      " [ 1  9]]\n",
      "valid score:  0.785714285714\n",
      "****************************************\n",
      "average train score:  0.758175182482\n",
      "average valid score:  0.700357142857\n"
     ]
    },
    {
     "data": {
      "image/png": "[encoded data removed]",
      "text/plain": [
       "<matplotlib.figure.Figure at 0x129139be0>"
      ]
     },
     "metadata": {},
     "output_type": "display_data"
    }
   ],
   "source": [
    "clinical_feats = k_fold_linearsvm(100, clinical_real_np, select_clinical_features, labels, num_train=120, num_data=165)"
   ]
  },
  {
   "cell_type": "markdown",
   "metadata": {},
   "source": [
    "#### all"
   ]
  },
  {
   "cell_type": "code",
   "execution_count": 75,
   "metadata": {},
   "outputs": [
    {
     "name": "stdout",
     "output_type": "stream",
     "text": [
      "feature's shape: (165, 5166)\n",
      "num_training: 120\n",
      "num_validation: 45\n",
      "selected features: \n",
      "[3258, 3257, 2991, 3251, 704, 5161, 5160, 2543, '病理M分期', 3790, 1874, 'xingbie']\n",
      "[[71 19]\n",
      " [ 7 40]]\n",
      "train score:  0.810218978102\n",
      "[[15  3]\n",
      " [ 3  7]]\n",
      "valid score:  0.785714285714\n",
      "****************************************\n",
      "average train score:  0.812773722628\n",
      "average valid score:  0.743928571429\n"
     ]
    },
    {
     "data": {
      "image/png": "[encoded data removed]",
      "text/plain": [
       "<matplotlib.figure.Figure at 0x123543dd8>"
      ]
     },
     "metadata": {},
     "output_type": "display_data"
    }
   ],
   "source": [
    "all_feats = k_fold_linearsvm(100, all_real_np, select_all_features, labels, num_train=120, num_data=165)"
   ]
  },
  {
   "cell_type": "code",
   "execution_count": null,
   "metadata": {
    "collapsed": true
   },
   "outputs": [],
   "source": []
  }
 ],
 "metadata": {
  "kernelspec": {
   "display_name": "Python 3",
   "language": "python",
   "name": "python3"
  },
  "language_info": {
   "codemirror_mode": {
    "name": "ipython",
    "version": 3
   },
   "file_extension": ".py",
   "mimetype": "text/x-python",
   "name": "python",
   "nbconvert_exporter": "python",
   "pygments_lexer": "ipython3",
   "version": "3.6.2"
  }
 },
 "nbformat": 4,
 "nbformat_minor": 2
}
